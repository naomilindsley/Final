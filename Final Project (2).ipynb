{
 "cells": [
  {
   "cell_type": "code",
   "execution_count": 253,
   "id": "0d2d49fd-eca3-4c34-b4af-96ed60bab4d6",
   "metadata": {},
   "outputs": [],
   "source": [
    "import pandas as pd\n",
    "import numpy as np\n",
    "import matplotlib.pyplot as plt\n",
    "import seaborn as sns\n",
    "\n",
    "from sklearn.linear_model import LinearRegression\n",
    "from sklearn.metrics import mean_squared_error\n",
    "import pandas as pd\n",
    "import numpy as np\n",
    "import matplotlib.pyplot as plt\n",
    "import seaborn as sns\n",
    "\n",
    "from sklearn.metrics import mean_squared_error, r2_score"
   ]
  },
  {
   "cell_type": "code",
   "execution_count": 114,
   "id": "c5f03857-fdf2-401f-a6f5-f1089316e134",
   "metadata": {},
   "outputs": [],
   "source": [
    "df = pd.read_csv('data/2019.csv')"
   ]
  },
  {
   "cell_type": "code",
   "execution_count": 7,
   "id": "74311824-c5db-4483-a4f1-798403f2fe86",
   "metadata": {},
   "outputs": [],
   "source": [
    "#Part1 Data Cleaning "
   ]
  },
  {
   "cell_type": "code",
   "execution_count": 11,
   "id": "4ef3ca76-3cde-440e-8921-b33b789df2c1",
   "metadata": {},
   "outputs": [
    {
     "data": {
      "text/html": [
       "<div>\n",
       "<style scoped>\n",
       "    .dataframe tbody tr th:only-of-type {\n",
       "        vertical-align: middle;\n",
       "    }\n",
       "\n",
       "    .dataframe tbody tr th {\n",
       "        vertical-align: top;\n",
       "    }\n",
       "\n",
       "    .dataframe thead th {\n",
       "        text-align: right;\n",
       "    }\n",
       "</style>\n",
       "<table border=\"1\" class=\"dataframe\">\n",
       "  <thead>\n",
       "    <tr style=\"text-align: right;\">\n",
       "      <th></th>\n",
       "      <th>Overall rank</th>\n",
       "      <th>Country or region</th>\n",
       "      <th>Score</th>\n",
       "      <th>GDP per capita</th>\n",
       "      <th>Social support</th>\n",
       "      <th>Healthy life expectancy</th>\n",
       "      <th>Freedom to make life choices</th>\n",
       "      <th>Generosity</th>\n",
       "      <th>Perceptions of corruption</th>\n",
       "    </tr>\n",
       "  </thead>\n",
       "  <tbody>\n",
       "    <tr>\n",
       "      <th>0</th>\n",
       "      <td>1</td>\n",
       "      <td>Finland</td>\n",
       "      <td>7.769</td>\n",
       "      <td>1.340</td>\n",
       "      <td>1.587</td>\n",
       "      <td>0.986</td>\n",
       "      <td>0.596</td>\n",
       "      <td>0.153</td>\n",
       "      <td>0.393</td>\n",
       "    </tr>\n",
       "    <tr>\n",
       "      <th>1</th>\n",
       "      <td>2</td>\n",
       "      <td>Denmark</td>\n",
       "      <td>7.600</td>\n",
       "      <td>1.383</td>\n",
       "      <td>1.573</td>\n",
       "      <td>0.996</td>\n",
       "      <td>0.592</td>\n",
       "      <td>0.252</td>\n",
       "      <td>0.410</td>\n",
       "    </tr>\n",
       "    <tr>\n",
       "      <th>2</th>\n",
       "      <td>3</td>\n",
       "      <td>Norway</td>\n",
       "      <td>7.554</td>\n",
       "      <td>1.488</td>\n",
       "      <td>1.582</td>\n",
       "      <td>1.028</td>\n",
       "      <td>0.603</td>\n",
       "      <td>0.271</td>\n",
       "      <td>0.341</td>\n",
       "    </tr>\n",
       "    <tr>\n",
       "      <th>3</th>\n",
       "      <td>4</td>\n",
       "      <td>Iceland</td>\n",
       "      <td>7.494</td>\n",
       "      <td>1.380</td>\n",
       "      <td>1.624</td>\n",
       "      <td>1.026</td>\n",
       "      <td>0.591</td>\n",
       "      <td>0.354</td>\n",
       "      <td>0.118</td>\n",
       "    </tr>\n",
       "    <tr>\n",
       "      <th>4</th>\n",
       "      <td>5</td>\n",
       "      <td>Netherlands</td>\n",
       "      <td>7.488</td>\n",
       "      <td>1.396</td>\n",
       "      <td>1.522</td>\n",
       "      <td>0.999</td>\n",
       "      <td>0.557</td>\n",
       "      <td>0.322</td>\n",
       "      <td>0.298</td>\n",
       "    </tr>\n",
       "    <tr>\n",
       "      <th>5</th>\n",
       "      <td>6</td>\n",
       "      <td>Switzerland</td>\n",
       "      <td>7.480</td>\n",
       "      <td>1.452</td>\n",
       "      <td>1.526</td>\n",
       "      <td>1.052</td>\n",
       "      <td>0.572</td>\n",
       "      <td>0.263</td>\n",
       "      <td>0.343</td>\n",
       "    </tr>\n",
       "  </tbody>\n",
       "</table>\n",
       "</div>"
      ],
      "text/plain": [
       "   Overall rank Country or region  Score  GDP per capita  Social support  \\\n",
       "0             1           Finland  7.769           1.340           1.587   \n",
       "1             2           Denmark  7.600           1.383           1.573   \n",
       "2             3            Norway  7.554           1.488           1.582   \n",
       "3             4           Iceland  7.494           1.380           1.624   \n",
       "4             5       Netherlands  7.488           1.396           1.522   \n",
       "5             6       Switzerland  7.480           1.452           1.526   \n",
       "\n",
       "   Healthy life expectancy  Freedom to make life choices  Generosity  \\\n",
       "0                    0.986                         0.596       0.153   \n",
       "1                    0.996                         0.592       0.252   \n",
       "2                    1.028                         0.603       0.271   \n",
       "3                    1.026                         0.591       0.354   \n",
       "4                    0.999                         0.557       0.322   \n",
       "5                    1.052                         0.572       0.263   \n",
       "\n",
       "   Perceptions of corruption  \n",
       "0                      0.393  \n",
       "1                      0.410  \n",
       "2                      0.341  \n",
       "3                      0.118  \n",
       "4                      0.298  \n",
       "5                      0.343  "
      ]
     },
     "execution_count": 11,
     "metadata": {},
     "output_type": "execute_result"
    }
   ],
   "source": [
    "df.head(n=6)"
   ]
  },
  {
   "cell_type": "code",
   "execution_count": 12,
   "id": "85f9e800-70fd-46e3-8c88-9333ff8454ae",
   "metadata": {},
   "outputs": [
    {
     "data": {
      "text/html": [
       "<div>\n",
       "<style scoped>\n",
       "    .dataframe tbody tr th:only-of-type {\n",
       "        vertical-align: middle;\n",
       "    }\n",
       "\n",
       "    .dataframe tbody tr th {\n",
       "        vertical-align: top;\n",
       "    }\n",
       "\n",
       "    .dataframe thead th {\n",
       "        text-align: right;\n",
       "    }\n",
       "</style>\n",
       "<table border=\"1\" class=\"dataframe\">\n",
       "  <thead>\n",
       "    <tr style=\"text-align: right;\">\n",
       "      <th></th>\n",
       "      <th>Overall rank</th>\n",
       "      <th>Country or region</th>\n",
       "      <th>Score</th>\n",
       "      <th>GDP per capita</th>\n",
       "      <th>Social support</th>\n",
       "      <th>Healthy life expectancy</th>\n",
       "      <th>Freedom to make life choices</th>\n",
       "      <th>Generosity</th>\n",
       "      <th>Perceptions of corruption</th>\n",
       "    </tr>\n",
       "  </thead>\n",
       "  <tbody>\n",
       "    <tr>\n",
       "      <th>0</th>\n",
       "      <td>1</td>\n",
       "      <td>Finland</td>\n",
       "      <td>7.769</td>\n",
       "      <td>1.340</td>\n",
       "      <td>1.587</td>\n",
       "      <td>0.986</td>\n",
       "      <td>0.596</td>\n",
       "      <td>0.153</td>\n",
       "      <td>0.393</td>\n",
       "    </tr>\n",
       "    <tr>\n",
       "      <th>1</th>\n",
       "      <td>2</td>\n",
       "      <td>Denmark</td>\n",
       "      <td>7.600</td>\n",
       "      <td>1.383</td>\n",
       "      <td>1.573</td>\n",
       "      <td>0.996</td>\n",
       "      <td>0.592</td>\n",
       "      <td>0.252</td>\n",
       "      <td>0.410</td>\n",
       "    </tr>\n",
       "    <tr>\n",
       "      <th>2</th>\n",
       "      <td>3</td>\n",
       "      <td>Norway</td>\n",
       "      <td>7.554</td>\n",
       "      <td>1.488</td>\n",
       "      <td>1.582</td>\n",
       "      <td>1.028</td>\n",
       "      <td>0.603</td>\n",
       "      <td>0.271</td>\n",
       "      <td>0.341</td>\n",
       "    </tr>\n",
       "    <tr>\n",
       "      <th>3</th>\n",
       "      <td>4</td>\n",
       "      <td>Iceland</td>\n",
       "      <td>7.494</td>\n",
       "      <td>1.380</td>\n",
       "      <td>1.624</td>\n",
       "      <td>1.026</td>\n",
       "      <td>0.591</td>\n",
       "      <td>0.354</td>\n",
       "      <td>0.118</td>\n",
       "    </tr>\n",
       "    <tr>\n",
       "      <th>4</th>\n",
       "      <td>5</td>\n",
       "      <td>Netherlands</td>\n",
       "      <td>7.488</td>\n",
       "      <td>1.396</td>\n",
       "      <td>1.522</td>\n",
       "      <td>0.999</td>\n",
       "      <td>0.557</td>\n",
       "      <td>0.322</td>\n",
       "      <td>0.298</td>\n",
       "    </tr>\n",
       "  </tbody>\n",
       "</table>\n",
       "</div>"
      ],
      "text/plain": [
       "   Overall rank Country or region  Score  GDP per capita  Social support  \\\n",
       "0             1           Finland  7.769           1.340           1.587   \n",
       "1             2           Denmark  7.600           1.383           1.573   \n",
       "2             3            Norway  7.554           1.488           1.582   \n",
       "3             4           Iceland  7.494           1.380           1.624   \n",
       "4             5       Netherlands  7.488           1.396           1.522   \n",
       "\n",
       "   Healthy life expectancy  Freedom to make life choices  Generosity  \\\n",
       "0                    0.986                         0.596       0.153   \n",
       "1                    0.996                         0.592       0.252   \n",
       "2                    1.028                         0.603       0.271   \n",
       "3                    1.026                         0.591       0.354   \n",
       "4                    0.999                         0.557       0.322   \n",
       "\n",
       "   Perceptions of corruption  \n",
       "0                      0.393  \n",
       "1                      0.410  \n",
       "2                      0.341  \n",
       "3                      0.118  \n",
       "4                      0.298  "
      ]
     },
     "execution_count": 12,
     "metadata": {},
     "output_type": "execute_result"
    }
   ],
   "source": [
    "df.head()"
   ]
  },
  {
   "cell_type": "code",
   "execution_count": 13,
   "id": "f7675bde-dc8f-4380-a3a1-717abfc33b5c",
   "metadata": {},
   "outputs": [
    {
     "data": {
      "text/plain": [
       "Overall rank                      int64\n",
       "Country or region                object\n",
       "Score                           float64\n",
       "GDP per capita                  float64\n",
       "Social support                  float64\n",
       "Healthy life expectancy         float64\n",
       "Freedom to make life choices    float64\n",
       "Generosity                      float64\n",
       "Perceptions of corruption       float64\n",
       "dtype: object"
      ]
     },
     "execution_count": 13,
     "metadata": {},
     "output_type": "execute_result"
    }
   ],
   "source": [
    "df.dtypes"
   ]
  },
  {
   "cell_type": "code",
   "execution_count": 93,
   "id": "f5acd524-eefb-490d-b1bd-6a4f035c4bb7",
   "metadata": {},
   "outputs": [],
   "source": [
    "df['Country or region'] = df['Country or region'].astype('category')\n"
   ]
  },
  {
   "cell_type": "code",
   "execution_count": 92,
   "id": "58700188-970e-409c-a764-b289c4114289",
   "metadata": {},
   "outputs": [
    {
     "data": {
      "text/plain": [
       "Country or region            int16\n",
       "Score                      float64\n",
       "GDP per capita             float64\n",
       "Social support             float64\n",
       "Healthy life expectancy    float64\n",
       "dtype: object"
      ]
     },
     "execution_count": 92,
     "metadata": {},
     "output_type": "execute_result"
    }
   ],
   "source": [
    "df.dtypes"
   ]
  },
  {
   "cell_type": "code",
   "execution_count": 16,
   "id": "52696508-1dcd-4579-a137-becea5a97b87",
   "metadata": {},
   "outputs": [
    {
     "data": {
      "text/plain": [
       "Overall rank                    0\n",
       "Country or region               0\n",
       "Score                           0\n",
       "GDP per capita                  0\n",
       "Social support                  0\n",
       "Healthy life expectancy         0\n",
       "Freedom to make life choices    0\n",
       "Generosity                      0\n",
       "Perceptions of corruption       0\n",
       "dtype: int64"
      ]
     },
     "execution_count": 16,
     "metadata": {},
     "output_type": "execute_result"
    }
   ],
   "source": [
    "df.isna().sum()"
   ]
  },
  {
   "cell_type": "code",
   "execution_count": 91,
   "id": "5d2fe11e-4399-46f1-a13f-f09ff7538f05",
   "metadata": {},
   "outputs": [
    {
     "data": {
      "text/plain": [
       "(156, 5)"
      ]
     },
     "execution_count": 91,
     "metadata": {},
     "output_type": "execute_result"
    }
   ],
   "source": [
    "df.shape"
   ]
  },
  {
   "cell_type": "code",
   "execution_count": 291,
   "id": "7f1f53dc-a7df-490f-9158-2d290325cd60",
   "metadata": {},
   "outputs": [
    {
     "data": {
      "text/html": [
       "<div>\n",
       "<style scoped>\n",
       "    .dataframe tbody tr th:only-of-type {\n",
       "        vertical-align: middle;\n",
       "    }\n",
       "\n",
       "    .dataframe tbody tr th {\n",
       "        vertical-align: top;\n",
       "    }\n",
       "\n",
       "    .dataframe thead th {\n",
       "        text-align: right;\n",
       "    }\n",
       "</style>\n",
       "<table border=\"1\" class=\"dataframe\">\n",
       "  <thead>\n",
       "    <tr style=\"text-align: right;\">\n",
       "      <th></th>\n",
       "      <th>Country or region</th>\n",
       "      <th>Score</th>\n",
       "      <th>GDP per capita</th>\n",
       "      <th>Social support</th>\n",
       "      <th>Healthy life expectancy</th>\n",
       "      <th>GDP_Social</th>\n",
       "      <th>GDP_Health</th>\n",
       "      <th>Social_Health</th>\n",
       "    </tr>\n",
       "  </thead>\n",
       "  <tbody>\n",
       "    <tr>\n",
       "      <th>count</th>\n",
       "      <td>156.000000</td>\n",
       "      <td>156.000000</td>\n",
       "      <td>156.000000</td>\n",
       "      <td>156.000000</td>\n",
       "      <td>156.000000</td>\n",
       "      <td>156.000000</td>\n",
       "      <td>156.000000</td>\n",
       "      <td>156.000000</td>\n",
       "    </tr>\n",
       "    <tr>\n",
       "      <th>mean</th>\n",
       "      <td>77.500000</td>\n",
       "      <td>5.407096</td>\n",
       "      <td>0.905147</td>\n",
       "      <td>1.208814</td>\n",
       "      <td>0.725244</td>\n",
       "      <td>1.183559</td>\n",
       "      <td>0.736524</td>\n",
       "      <td>0.928437</td>\n",
       "    </tr>\n",
       "    <tr>\n",
       "      <th>std</th>\n",
       "      <td>45.177428</td>\n",
       "      <td>1.113120</td>\n",
       "      <td>0.398389</td>\n",
       "      <td>0.299191</td>\n",
       "      <td>0.242124</td>\n",
       "      <td>0.657868</td>\n",
       "      <td>0.461999</td>\n",
       "      <td>0.439906</td>\n",
       "    </tr>\n",
       "    <tr>\n",
       "      <th>min</th>\n",
       "      <td>0.000000</td>\n",
       "      <td>2.853000</td>\n",
       "      <td>0.000000</td>\n",
       "      <td>0.000000</td>\n",
       "      <td>0.000000</td>\n",
       "      <td>0.000000</td>\n",
       "      <td>0.000000</td>\n",
       "      <td>0.000000</td>\n",
       "    </tr>\n",
       "    <tr>\n",
       "      <th>25%</th>\n",
       "      <td>38.750000</td>\n",
       "      <td>4.544500</td>\n",
       "      <td>0.602750</td>\n",
       "      <td>1.055750</td>\n",
       "      <td>0.547750</td>\n",
       "      <td>0.586951</td>\n",
       "      <td>0.331899</td>\n",
       "      <td>0.559279</td>\n",
       "    </tr>\n",
       "    <tr>\n",
       "      <th>50%</th>\n",
       "      <td>77.500000</td>\n",
       "      <td>5.379500</td>\n",
       "      <td>0.960000</td>\n",
       "      <td>1.271500</td>\n",
       "      <td>0.789000</td>\n",
       "      <td>1.198514</td>\n",
       "      <td>0.761707</td>\n",
       "      <td>1.022292</td>\n",
       "    </tr>\n",
       "    <tr>\n",
       "      <th>75%</th>\n",
       "      <td>116.250000</td>\n",
       "      <td>6.184500</td>\n",
       "      <td>1.232500</td>\n",
       "      <td>1.452500</td>\n",
       "      <td>0.881750</td>\n",
       "      <td>1.741029</td>\n",
       "      <td>1.085285</td>\n",
       "      <td>1.260008</td>\n",
       "    </tr>\n",
       "    <tr>\n",
       "      <th>max</th>\n",
       "      <td>155.000000</td>\n",
       "      <td>7.769000</td>\n",
       "      <td>1.684000</td>\n",
       "      <td>1.624000</td>\n",
       "      <td>1.141000</td>\n",
       "      <td>2.379711</td>\n",
       "      <td>1.793652</td>\n",
       "      <td>1.669283</td>\n",
       "    </tr>\n",
       "  </tbody>\n",
       "</table>\n",
       "</div>"
      ],
      "text/plain": [
       "       Country or region       Score  GDP per capita  Social support  \\\n",
       "count         156.000000  156.000000      156.000000      156.000000   \n",
       "mean           77.500000    5.407096        0.905147        1.208814   \n",
       "std            45.177428    1.113120        0.398389        0.299191   \n",
       "min             0.000000    2.853000        0.000000        0.000000   \n",
       "25%            38.750000    4.544500        0.602750        1.055750   \n",
       "50%            77.500000    5.379500        0.960000        1.271500   \n",
       "75%           116.250000    6.184500        1.232500        1.452500   \n",
       "max           155.000000    7.769000        1.684000        1.624000   \n",
       "\n",
       "       Healthy life expectancy  GDP_Social  GDP_Health  Social_Health  \n",
       "count               156.000000  156.000000  156.000000     156.000000  \n",
       "mean                  0.725244    1.183559    0.736524       0.928437  \n",
       "std                   0.242124    0.657868    0.461999       0.439906  \n",
       "min                   0.000000    0.000000    0.000000       0.000000  \n",
       "25%                   0.547750    0.586951    0.331899       0.559279  \n",
       "50%                   0.789000    1.198514    0.761707       1.022292  \n",
       "75%                   0.881750    1.741029    1.085285       1.260008  \n",
       "max                   1.141000    2.379711    1.793652       1.669283  "
      ]
     },
     "execution_count": 291,
     "metadata": {},
     "output_type": "execute_result"
    }
   ],
   "source": [
    "df.describe()"
   ]
  },
  {
   "cell_type": "code",
   "execution_count": 282,
   "id": "517286aa-7013-4c79-bec3-1cd8feb893d3",
   "metadata": {},
   "outputs": [
    {
     "data": {
      "text/plain": [
       "<Axes: ylabel='Frequency'>"
      ]
     },
     "execution_count": 282,
     "metadata": {},
     "output_type": "execute_result"
    },
    {
     "data": {
      "image/png": "[encoded data removed]",
      "text/plain": [
       "<Figure size 1000x500 with 1 Axes>"
      ]
     },
     "metadata": {},
     "output_type": "display_data"
    }
   ],
   "source": [
    "#Plot histogram of target/dependant variable(Healthy life expectancy) to see distribution.\n",
    "plt.figure(figsize = (10,5))\n",
    "df['Healthy life expectancy'].plot(kind ='hist')"
   ]
  },
  {
   "cell_type": "code",
   "execution_count": 292,
   "id": "a4760104-86cc-4646-9e18-72435e3b452f",
   "metadata": {},
   "outputs": [
    {
     "name": "stdout",
     "output_type": "stream",
     "text": [
      "Index(['Country or region', 'Score', 'GDP per capita', 'Social support',\n",
      "       'Healthy life expectancy', 'GDP_Social', 'GDP_Health', 'Social_Health'],\n",
      "      dtype='object')\n"
     ]
    }
   ],
   "source": [
    "print(df.columns)"
   ]
  },
  {
   "cell_type": "code",
   "execution_count": 293,
   "id": "640aa613-c7f6-408b-8b38-cd0c55f38b38",
   "metadata": {},
   "outputs": [],
   "source": [
    "df['Country or region'] = df['Country or region'].astype('category').cat.codes\n",
    "\n"
   ]
  },
  {
   "cell_type": "code",
   "execution_count": 285,
   "id": "28881279-0533-41ec-a7c6-200162a364b7",
   "metadata": {},
   "outputs": [
    {
     "data": {
      "image/png": "[encoded data removed]",
      "text/plain": [
       "<Figure size 900x800 with 2 Axes>"
      ]
     },
     "metadata": {},
     "output_type": "display_data"
    }
   ],
   "source": [
    "#Using Pearson Correlation (corr() function) plot all correlation (0.5-1)\n",
    "plt.figure(figsize=(9,8))\n",
    "cor = df.corr()\n",
    "sns.heatmap(cor, annot = True, cmap=plt.cm.RdYlBu)\n",
    "plt.show()\n"
   ]
  },
  {
   "cell_type": "code",
   "execution_count": 312,
   "id": "8dd6b6ad-2dea-4066-8834-1872111d870c",
   "metadata": {},
   "outputs": [
    {
     "name": "stdout",
     "output_type": "stream",
     "text": [
      "Index(['Country or region', 'Score', 'GDP per capita', 'Social support',\n",
      "       'Healthy life expectancy', 'GDP_Social', 'GDP_Health', 'Social_Health'],\n",
      "      dtype='object')\n"
     ]
    }
   ],
   "source": [
    "df.columns = df.columns.str.strip()  # Remove extra spaces\n",
    "print(df.columns)  # Verify correct names\n"
   ]
  },
  {
   "cell_type": "code",
   "execution_count": 313,
   "id": "67df1234-67ea-4bef-9c6c-d6141626a29e",
   "metadata": {},
   "outputs": [],
   "source": [
    "#Identify positive correlations with target variable\n",
    "X = df[['GDP per capita', 'Social support', 'Healthy life expectancy','Healthy life expectancy', 'GDP_Social', 'GDP_Health', 'Social_Health','GDP_Social', 'GDP_Health'\n",
    "        ]]\n",
    "y = df['Score'] "
   ]
  },
  {
   "cell_type": "code",
   "execution_count": 314,
   "id": "bb8023a5-7fb0-445d-835b-af858ef70cb7",
   "metadata": {},
   "outputs": [
    {
     "data": {
      "text/plain": [
       "Country or region            int16\n",
       "Score                      float64\n",
       "GDP per capita             float64\n",
       "Social support             float64\n",
       "Healthy life expectancy    float64\n",
       "GDP_Social                 float64\n",
       "GDP_Health                 float64\n",
       "Social_Health              float64\n",
       "dtype: object"
      ]
     },
     "execution_count": 314,
     "metadata": {},
     "output_type": "execute_result"
    }
   ],
   "source": [
    "df.dtypes"
   ]
  },
  {
   "cell_type": "code",
   "execution_count": 315,
   "id": "51771dc9-2bed-4b5c-a0b3-9921e1828454",
   "metadata": {},
   "outputs": [
    {
     "data": {
      "text/html": [
       "<div>\n",
       "<style scoped>\n",
       "    .dataframe tbody tr th:only-of-type {\n",
       "        vertical-align: middle;\n",
       "    }\n",
       "\n",
       "    .dataframe tbody tr th {\n",
       "        vertical-align: top;\n",
       "    }\n",
       "\n",
       "    .dataframe thead th {\n",
       "        text-align: right;\n",
       "    }\n",
       "</style>\n",
       "<table border=\"1\" class=\"dataframe\">\n",
       "  <thead>\n",
       "    <tr style=\"text-align: right;\">\n",
       "      <th></th>\n",
       "      <th>Country or region</th>\n",
       "      <th>Score</th>\n",
       "      <th>GDP per capita</th>\n",
       "      <th>Social support</th>\n",
       "      <th>Healthy life expectancy</th>\n",
       "      <th>GDP_Social</th>\n",
       "      <th>GDP_Health</th>\n",
       "      <th>Social_Health</th>\n",
       "    </tr>\n",
       "  </thead>\n",
       "  <tbody>\n",
       "    <tr>\n",
       "      <th>0</th>\n",
       "      <td>43</td>\n",
       "      <td>7.769</td>\n",
       "      <td>1.340</td>\n",
       "      <td>1.587</td>\n",
       "      <td>0.986</td>\n",
       "      <td>2.126580</td>\n",
       "      <td>1.321240</td>\n",
       "      <td>1.564782</td>\n",
       "    </tr>\n",
       "    <tr>\n",
       "      <th>1</th>\n",
       "      <td>36</td>\n",
       "      <td>7.600</td>\n",
       "      <td>1.383</td>\n",
       "      <td>1.573</td>\n",
       "      <td>0.996</td>\n",
       "      <td>2.175459</td>\n",
       "      <td>1.377468</td>\n",
       "      <td>1.566708</td>\n",
       "    </tr>\n",
       "    <tr>\n",
       "      <th>2</th>\n",
       "      <td>105</td>\n",
       "      <td>7.554</td>\n",
       "      <td>1.488</td>\n",
       "      <td>1.582</td>\n",
       "      <td>1.028</td>\n",
       "      <td>2.354016</td>\n",
       "      <td>1.529664</td>\n",
       "      <td>1.626296</td>\n",
       "    </tr>\n",
       "    <tr>\n",
       "      <th>3</th>\n",
       "      <td>57</td>\n",
       "      <td>7.494</td>\n",
       "      <td>1.380</td>\n",
       "      <td>1.624</td>\n",
       "      <td>1.026</td>\n",
       "      <td>2.241120</td>\n",
       "      <td>1.415880</td>\n",
       "      <td>1.666224</td>\n",
       "    </tr>\n",
       "    <tr>\n",
       "      <th>4</th>\n",
       "      <td>98</td>\n",
       "      <td>7.488</td>\n",
       "      <td>1.396</td>\n",
       "      <td>1.522</td>\n",
       "      <td>0.999</td>\n",
       "      <td>2.124712</td>\n",
       "      <td>1.394604</td>\n",
       "      <td>1.520478</td>\n",
       "    </tr>\n",
       "    <tr>\n",
       "      <th>...</th>\n",
       "      <td>...</td>\n",
       "      <td>...</td>\n",
       "      <td>...</td>\n",
       "      <td>...</td>\n",
       "      <td>...</td>\n",
       "      <td>...</td>\n",
       "      <td>...</td>\n",
       "      <td>...</td>\n",
       "    </tr>\n",
       "    <tr>\n",
       "      <th>151</th>\n",
       "      <td>117</td>\n",
       "      <td>3.334</td>\n",
       "      <td>0.359</td>\n",
       "      <td>0.711</td>\n",
       "      <td>0.614</td>\n",
       "      <td>0.255249</td>\n",
       "      <td>0.220426</td>\n",
       "      <td>0.436554</td>\n",
       "    </tr>\n",
       "    <tr>\n",
       "      <th>152</th>\n",
       "      <td>137</td>\n",
       "      <td>3.231</td>\n",
       "      <td>0.476</td>\n",
       "      <td>0.885</td>\n",
       "      <td>0.499</td>\n",
       "      <td>0.421260</td>\n",
       "      <td>0.237524</td>\n",
       "      <td>0.441615</td>\n",
       "    </tr>\n",
       "    <tr>\n",
       "      <th>153</th>\n",
       "      <td>0</td>\n",
       "      <td>3.203</td>\n",
       "      <td>0.350</td>\n",
       "      <td>0.517</td>\n",
       "      <td>0.361</td>\n",
       "      <td>0.180950</td>\n",
       "      <td>0.126350</td>\n",
       "      <td>0.186637</td>\n",
       "    </tr>\n",
       "    <tr>\n",
       "      <th>154</th>\n",
       "      <td>24</td>\n",
       "      <td>3.083</td>\n",
       "      <td>0.026</td>\n",
       "      <td>0.000</td>\n",
       "      <td>0.105</td>\n",
       "      <td>0.000000</td>\n",
       "      <td>0.002730</td>\n",
       "      <td>0.000000</td>\n",
       "    </tr>\n",
       "    <tr>\n",
       "      <th>155</th>\n",
       "      <td>128</td>\n",
       "      <td>2.853</td>\n",
       "      <td>0.306</td>\n",
       "      <td>0.575</td>\n",
       "      <td>0.295</td>\n",
       "      <td>0.175950</td>\n",
       "      <td>0.090270</td>\n",
       "      <td>0.169625</td>\n",
       "    </tr>\n",
       "  </tbody>\n",
       "</table>\n",
       "<p>156 rows × 8 columns</p>\n",
       "</div>"
      ],
      "text/plain": [
       "     Country or region  Score  GDP per capita  Social support  \\\n",
       "0                   43  7.769           1.340           1.587   \n",
       "1                   36  7.600           1.383           1.573   \n",
       "2                  105  7.554           1.488           1.582   \n",
       "3                   57  7.494           1.380           1.624   \n",
       "4                   98  7.488           1.396           1.522   \n",
       "..                 ...    ...             ...             ...   \n",
       "151                117  3.334           0.359           0.711   \n",
       "152                137  3.231           0.476           0.885   \n",
       "153                  0  3.203           0.350           0.517   \n",
       "154                 24  3.083           0.026           0.000   \n",
       "155                128  2.853           0.306           0.575   \n",
       "\n",
       "     Healthy life expectancy  GDP_Social  GDP_Health  Social_Health  \n",
       "0                      0.986    2.126580    1.321240       1.564782  \n",
       "1                      0.996    2.175459    1.377468       1.566708  \n",
       "2                      1.028    2.354016    1.529664       1.626296  \n",
       "3                      1.026    2.241120    1.415880       1.666224  \n",
       "4                      0.999    2.124712    1.394604       1.520478  \n",
       "..                       ...         ...         ...            ...  \n",
       "151                    0.614    0.255249    0.220426       0.436554  \n",
       "152                    0.499    0.421260    0.237524       0.441615  \n",
       "153                    0.361    0.180950    0.126350       0.186637  \n",
       "154                    0.105    0.000000    0.002730       0.000000  \n",
       "155                    0.295    0.175950    0.090270       0.169625  \n",
       "\n",
       "[156 rows x 8 columns]"
      ]
     },
     "execution_count": 315,
     "metadata": {},
     "output_type": "execute_result"
    }
   ],
   "source": [
    "df"
   ]
  },
  {
   "cell_type": "code",
   "execution_count": 316,
   "id": "43f05b37-edfc-40b1-abf0-7137a9d2824b",
   "metadata": {},
   "outputs": [],
   "source": [
    "#Split the date into 75% training set and 25% testing set.\n",
    "X_train, X_test, y_train, y_test = train_test_split(X, y, test_size=0.25, random_state=42)"
   ]
  },
  {
   "cell_type": "code",
   "execution_count": 317,
   "id": "0071bafc-866c-41f2-ae96-97d87378d72b",
   "metadata": {},
   "outputs": [
    {
     "name": "stdout",
     "output_type": "stream",
     "text": [
      "Training Set Shape: (117, 9) (117,)\n",
      "Test Set Shape: (39, 9) (39,)\n"
     ]
    }
   ],
   "source": [
    "# Print shapes of the splits\n",
    "print(\"Training Set Shape:\", X_train.shape, y_train.shape)\n",
    "print(\"Test Set Shape:\", X_test.shape, y_test.shape)"
   ]
  },
  {
   "cell_type": "code",
   "execution_count": 318,
   "id": "ee7f4904-ddf4-4e0a-949d-20487d37ab5b",
   "metadata": {},
   "outputs": [],
   "source": [
    "#117 countries in train and 39 in test set"
   ]
  },
  {
   "cell_type": "code",
   "execution_count": 319,
   "id": "409c20d5-ed57-4451-9d6f-bc2dd6752147",
   "metadata": {},
   "outputs": [],
   "source": [
    "#Fit the linear regression model\n",
    "# Initialize and train the Linear Regression model\n",
    "# Predict happiness scores using the test data\n",
    "lrm = linear_model.LinearRegression()\n",
    "lrm_model = lrm.fit(X_train, y_train)\n",
    "lrm_predictions = lrm.predict(X_test)"
   ]
  },
  {
   "cell_type": "code",
   "execution_count": 320,
   "id": "649b19db-302a-4f87-9a7e-4456641a2fc0",
   "metadata": {
    "scrolled": true
   },
   "outputs": [
    {
     "data": {
      "text/plain": [
       "array([6.21069024, 5.90814856, 5.8158248 , 5.81680234, 4.2443664 ,\n",
       "       6.8086117 , 5.20204129, 5.58343536, 5.63532671, 4.18304863,\n",
       "       6.50070868, 5.44425406, 7.04013187, 4.68622019, 6.40064579,\n",
       "       6.27096121, 4.14843151, 3.62222675, 4.20633467, 5.88742976,\n",
       "       4.03592317, 6.43929091, 6.64236995, 6.74836379, 5.94301769,\n",
       "       4.60697481, 5.23496173, 5.97194482, 5.95435857, 4.23762445,\n",
       "       5.3138743 , 4.93590787, 5.9276812 , 3.72653745, 4.87510961,\n",
       "       3.93398987, 4.24194341, 4.32261899, 5.93707119])"
      ]
     },
     "execution_count": 320,
     "metadata": {},
     "output_type": "execute_result"
    }
   ],
   "source": [
    "lrm_predictions"
   ]
  },
  {
   "cell_type": "code",
   "execution_count": 321,
   "id": "9e27f4fa-67b6-48a9-bee3-8239ea15ed0c",
   "metadata": {},
   "outputs": [
    {
     "name": "stdout",
     "output_type": "stream",
     "text": [
      "Mean Squared Error (MSE): 0.37871374325216245\n"
     ]
    }
   ],
   "source": [
    "#Mean Squared Error (MSE)\n",
    "mse = mean_squared_error(y_test, lrm_predictions)\n",
    "print(\"Mean Squared Error (MSE):\", mse)"
   ]
  },
  {
   "cell_type": "code",
   "execution_count": 322,
   "id": "0911e701-49a5-48c8-aa16-d6395a506f84",
   "metadata": {},
   "outputs": [
    {
     "name": "stdout",
     "output_type": "stream",
     "text": [
      "Root Mean Squared Error (RMSE): 0.6153972239555217\n"
     ]
    }
   ],
   "source": [
    "rmse = np.sqrt(mse)\n",
    "print(\"Root Mean Squared Error (RMSE):\", rmse)"
   ]
  },
  {
   "cell_type": "code",
   "execution_count": 323,
   "id": "c2505084-7172-43f5-93fb-c53a9fc1b391",
   "metadata": {},
   "outputs": [],
   "source": [
    "from sklearn.metrics import r2_score\n",
    "from sklearn.metrics import mean_squared_error, r2_score"
   ]
  },
  {
   "cell_type": "code",
   "execution_count": 324,
   "id": "738ca5c1-a5f0-4f03-8296-4d97726eacd9",
   "metadata": {},
   "outputs": [
    {
     "name": "stdout",
     "output_type": "stream",
     "text": [
      "R-squared (R²): 0.6201667650896423\n"
     ]
    }
   ],
   "source": [
    "#Measures how well features explain the target variable.\n",
    "#Ranges from 0 to 1 → Higher = Better.\n",
    "#r2 = r2_score(y_test, lrm_predictions)\n",
    "\n",
    "\n",
    "# Make predictions\n",
    "lrm_predictions = lrm.predict(X_test)\n",
    "\n",
    "# Compute R-squared\n",
    "r2 = r2_score(y_test, lrm_predictions)\n",
    "\n",
    "# Print R-squared value\n",
    "print(\"R-squared (R²):\", r2)\n",
    "#from sklearn.metrics import mean_squared_error, r2_score"
   ]
  },
  {
   "cell_type": "code",
   "execution_count": 325,
   "id": "52961f54-e868-4074-bcaa-89ebd979fc95",
   "metadata": {},
   "outputs": [
    {
     "data": {
      "text/plain": [
       "Text(0, 0.5, 'Predicted Happiness Score')"
      ]
     },
     "execution_count": 325,
     "metadata": {},
     "output_type": "execute_result"
    },
    {
     "data": {
      "image/png": "[encoded data removed]",
      "text/plain": [
       "<Figure size 700x500 with 1 Axes>"
      ]
     },
     "metadata": {},
     "output_type": "display_data"
    }
   ],
   "source": [
    "plt.figure(figsize=(7,5))\n",
    "sns.regplot(x=y_test, y=lrm_predictions, )\n",
    "plt.title('Actual vs. Predicted Values')\n",
    "plt.xlabel('Actual Happiness Score')\n",
    "plt.ylabel('Predicted Happiness Score')\n",
    "\n"
   ]
  },
  {
   "cell_type": "code",
   "execution_count": 328,
   "id": "d2a384cd-b14d-4fcb-9ca2-2abccfa220a6",
   "metadata": {},
   "outputs": [
    {
     "data": {
      "image/png": "[encoded data removed]",
      "text/plain": [
       "<Figure size 640x480 with 1 Axes>"
      ]
     },
     "metadata": {},
     "output_type": "display_data"
    }
   ],
   "source": [
    "sns.boxplot(data=df[['Score', 'GDP per capita', 'Social support']])\n",
    "plt.show()\n",
    "#GDP per capita is fairly normally distributed.\n",
    "#Most countries have social support between ~1.0 and ~2.0."
   ]
  },
  {
   "cell_type": "code",
   "execution_count": 306,
   "id": "37ac77d3-3830-41c9-bc32-430106de49e3",
   "metadata": {},
   "outputs": [],
   "source": [
    "#Residuals = Actual - Predicted"
   ]
  },
  {
   "cell_type": "code",
   "execution_count": 326,
   "id": "32d8e1b9-9b69-4355-9108-4114b48824f6",
   "metadata": {},
   "outputs": [
    {
     "data": {
      "text/plain": [
       "Text(0, 0.5, 'Frequency')"
      ]
     },
     "execution_count": 326,
     "metadata": {},
     "output_type": "execute_result"
    },
    {
     "data": {
      "image/png": "[encoded data removed]",
      "text/plain": [
       "<Figure size 800x500 with 1 Axes>"
      ]
     },
     "metadata": {},
     "output_type": "display_data"
    }
   ],
   "source": [
    "\n",
    "residuals = y_test - lrm_predictions\n",
    "\n",
    "# Plot residual distribution\n",
    "plt.figure(figsize=(8,5))\n",
    "sns.histplot(residuals)\n",
    "plt.axvline(0, color='red')\n",
    "plt.title('Residual Error Distribution')\n",
    "plt.xlabel('Residuals')\n",
    "plt.ylabel('Frequency')\n",
    "\n",
    "\n"
   ]
  },
  {
   "cell_type": "code",
   "execution_count": null,
   "id": "8e7d7640-1026-49aa-b086-039f248112d4",
   "metadata": {},
   "outputs": [],
   "source": [
    "#Model is correctly capturing the positive correlation between the independent variables and the happiness score."
   ]
  },
  {
   "cell_type": "code",
   "execution_count": 327,
   "id": "046b91d8-3659-4307-872a-a86d42c5d991",
   "metadata": {},
   "outputs": [
    {
     "name": "stdout",
     "output_type": "stream",
     "text": [
      "Healthy life expectancy 0.6201667650896423\n"
     ]
    }
   ],
   "source": [
    "print('Healthy life expectancy', lrm_model.score(X_test, y_test))"
   ]
  },
  {
   "cell_type": "code",
   "execution_count": null,
   "id": "8d80b69d-dafc-4119-92be-d97cbb582034",
   "metadata": {},
   "outputs": [],
   "source": [
    "#Metric\tWhat It Means\n",
    "#MSE\tMeasures average squared errors, lower is better.\n",
    "#RMSE\tHelps interpret error in actual units, lower is better.\n",
    "#R²\tHow well the model explains happiness scores, closer to 1 is better."
   ]
  },
  {
   "cell_type": "code",
   "execution_count": null,
   "id": "f38dee97-2c0b-4ed3-bdd3-5f3dd97dd9ab",
   "metadata": {},
   "outputs": [],
   "source": [
    "#Happiness might depend on combinations of factors (e.g., GDP × Social Support)???"
   ]
  },
  {
   "cell_type": "code",
   "execution_count": null,
   "id": "e7990884-5e67-4952-8f99-85a4778c7406",
   "metadata": {},
   "outputs": [],
   "source": []
  },
  {
   "cell_type": "code",
   "execution_count": null,
   "id": "bd74cb2c-92ea-4eca-9152-48f3a0d9d64f",
   "metadata": {},
   "outputs": [],
   "source": []
  },
  {
   "cell_type": "code",
   "execution_count": null,
   "id": "fb0c376b-10fe-4a26-90ae-2937fd576b02",
   "metadata": {},
   "outputs": [],
   "source": []
  },
  {
   "cell_type": "code",
   "execution_count": null,
   "id": "850a17eb-e7df-4712-844c-9688fc877ff0",
   "metadata": {},
   "outputs": [],
   "source": []
  },
  {
   "cell_type": "code",
   "execution_count": null,
   "id": "acfea34e-711b-4e55-8d91-3476bc4c1b35",
   "metadata": {},
   "outputs": [],
   "source": []
  },
  {
   "cell_type": "code",
   "execution_count": null,
   "id": "094b19bb-66e0-46d9-8d6a-fa9a0abe7809",
   "metadata": {},
   "outputs": [],
   "source": []
  },
  {
   "cell_type": "code",
   "execution_count": null,
   "id": "c4756f65-3d3e-46bd-9be8-2ebeaa5a798a",
   "metadata": {},
   "outputs": [],
   "source": []
  },
  {
   "cell_type": "code",
   "execution_count": null,
   "id": "b4eff671-7a0d-4b80-ae66-c657418053fe",
   "metadata": {},
   "outputs": [],
   "source": []
  },
  {
   "cell_type": "code",
   "execution_count": null,
   "id": "5dcfa4f9-76c7-4a31-b159-8ad0df58a7ba",
   "metadata": {},
   "outputs": [],
   "source": []
  },
  {
   "cell_type": "code",
   "execution_count": null,
   "id": "e0548302-0a16-40b1-8d84-9903d5dd0cb5",
   "metadata": {},
   "outputs": [],
   "source": []
  },
  {
   "cell_type": "code",
   "execution_count": null,
   "id": "d59aa173-8d5e-439f-8060-4e7058e02847",
   "metadata": {},
   "outputs": [],
   "source": []
  },
  {
   "cell_type": "code",
   "execution_count": null,
   "id": "bdf4a52a-2f3a-4465-bc35-86f761fcf065",
   "metadata": {},
   "outputs": [],
   "source": []
  }
 ],
 "metadata": {
  "kernelspec": {
   "display_name": "Python 3 (ipykernel)",
   "language": "python",
   "name": "python3"
  },
  "language_info": {
   "codemirror_mode": {
    "name": "ipython",
    "version": 3
   },
   "file_extension": ".py",
   "mimetype": "text/x-python",
   "name": "python",
   "nbconvert_exporter": "python",
   "pygments_lexer": "ipython3",
   "version": "3.12.7"
  }
 },
 "nbformat": 4,
 "nbformat_minor": 5
}
